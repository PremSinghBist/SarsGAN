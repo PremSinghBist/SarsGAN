{
 "cells": [
  {
   "cell_type": "code",
   "execution_count": 229,
   "metadata": {},
   "outputs": [],
   "source": [
    "import os\n",
    "import subprocess\n",
    "from Bio import SeqIO\n",
    "from Bio.Seq import Seq\n",
    "import pandas as pd\n"
   ]
  },
  {
   "cell_type": "code",
   "execution_count": 230,
   "metadata": {},
   "outputs": [],
   "source": [
    "db_path = \"/home/perm/ProteinGAN/data/cov_seqs/sars_db/full/cov_db_full\"\n",
    "query_path_csv_gt_50 = \"/home/perm/ProteinGAN/data/log_archive/non_sat_25m_dim_128/fasta_12000_pred_score_filter_greater_than_50.csv\"\n",
    "query_path_csv_le_50 = \"/home/perm/ProteinGAN/data/log_archive/non_sat_25m_dim_128/fasta_12000_pred_score_filter_less_than_equal_50.csv\"\n",
    "\n",
    "query_path_fsta_gt_50 = \"/home/perm/ProteinGAN/data/log_archive/non_sat_25m_dim_128/fasta_12000_pred_score_filter_greater_than_50.fasta\"\n",
    "query_path_fsta_le_50 = \"/home/perm/ProteinGAN/data/log_archive/non_sat_25m_dim_128/fasta_12000_pred_score_filter_less_than_equal_50.fasta\"\n"
   ]
  },
  {
   "cell_type": "code",
   "execution_count": 231,
   "metadata": {},
   "outputs": [],
   "source": [
    "def excecute_blast(query_path):\n",
    "        '''\n",
    "        Returns Blast_results, errror if any \n",
    "        Enzyme class #10: comma separated value format\n",
    "        https://www.ncbi.nlm.nih.gov/books/NBK279684/\n",
    "        qseqid : query sequence id \n",
    "        sseqid : subject sequence id (db id)   | gi : gene info identifier in genbank datbase \n",
    "        qstart : Start of alignment in query\n",
    "        qend : End of alignment in query\n",
    "        sstart : Start of alignment in subject\n",
    "        send : End of alignment in subject\n",
    "        qseq : Aligned part of query sequence\n",
    "        sseq : Aligned part of subject sequence\n",
    "        length : alignment length \n",
    "        nident : no of identical matches\n",
    "        Ppos (similarity) : The \"ppos\" is a measure of the percentage of positions in the alignment where the residues are identical (positives). \n",
    "        10 qseqid score evalue pident '''\n",
    "        \n",
    "        blastp = subprocess.Popen(\n",
    "                ['blastp', '-db', db_path, \"-max_target_seqs\", \"1\", \"-outfmt\", \"10 qseqid sseqid qstart qend sstart send nident score evalue pident qseq sseq ppos\",\n",
    "                \"-matrix\", \"BLOSUM45\",\"-evalue\", \"1000\",  \"-query\", query_path], stdout=subprocess.PIPE, stderr=subprocess.PIPE)\n",
    "        results, err = blastp.communicate() #b'25,45,5.2,40.000\\n60,44,6.0,23.077\\ | it is a binary form data \n",
    "        text_results = results.decode('utf-8') #Decode binary into text format\n",
    "        #print(\"Result:*******: \",text_results)\n",
    "        #print(\"Error: ******\", err)\n",
    "        return text_results, err\n"
   ]
  },
  {
   "cell_type": "code",
   "execution_count": 232,
   "metadata": {},
   "outputs": [],
   "source": [
    "def parse_alignment_result(text_results):\n",
    "    '''\n",
    "    Returns dataframe of aligned result\n",
    "    '''\n",
    "    qseqid, sseqid  = [], [] \n",
    "    qstart, qend = [], []\n",
    "    sstart, send  = [], []\n",
    "    nident = []\n",
    "    score = []\n",
    "    evalue = []\n",
    "    pident = []\n",
    "    qseq, sseq, ppos = [], [], []\n",
    "    #25,28698,7,16,2,11,4,45,5.2,40.000,DDMTDQCNFW,PNITNLCPFW\n",
    "    #qseqid sseqid qstart qend sstart send nident score evalue pident qseq sseq\n",
    "    for row in text_results.split(os.linesep):\n",
    "        records = row.split(\",\")\n",
    "        # print(\"Record len: \", len(records))\n",
    "        # print(\"Record:\", records)\n",
    "        if len(records) != 13:\n",
    "            continue \n",
    "        qseqid.append(records[0])\n",
    "        sseqid.append(records[1])\n",
    "        qstart.append(records[2])\n",
    "        qend.append(records[3])\n",
    "        sstart.append(records[4])\n",
    "        send.append(records[5])\n",
    "        nident.append(records[6])\n",
    "        score.append(records[7])\n",
    "        evalue.append(records[8])\n",
    "        pident.append(records[9])\n",
    "        qseq.append(records[10])\n",
    "        sseq.append(records[11])\n",
    "        ppos.append(records[12])\n",
    "        \n",
    "    result_frame = {\n",
    "        'qseqid' : qseqid,  'sseqid': sseqid,  'qstart' : qstart,\n",
    "        'qend' : qend,  'sstart': sstart,  'send': send,\n",
    "        'nident': nident,  'score': score,  'evalue': evalue,\n",
    "        'pident': pident,  'qseq' : qseq,  'sseq' : sseq, 'ppos' : ppos\n",
    "    }  \n",
    "    return result_frame "
   ]
  },
  {
   "cell_type": "code",
   "execution_count": 233,
   "metadata": {},
   "outputs": [],
   "source": [
    "def save_alignment_result(result_frame, save_path):\n",
    "    #qseqid sseqid qstart qend sstart send nident score evalue pident\n",
    "    df = pd.DataFrame(result_frame)\n",
    "    df.to_csv(save_path, index=False)\n",
    "    print(f\"Alignment results save successfully to csv: {save_path}\")"
   ]
  },
  {
   "cell_type": "code",
   "execution_count": 234,
   "metadata": {},
   "outputs": [],
   "source": [
    "def perform_alignment(query_path):\n",
    "    #Align sequences and save results to csv |  |  query_path_fsta_gt_50\n",
    "    result , error = excecute_blast(query_path)\n",
    "    result_dataframe = parse_alignment_result(result)\n",
    "    save_alignment_result(result_dataframe, \n",
    "                        'aligment_results_{}.csv'.format(os.path.basename(query_path).split(\".\")[0] ))\n"
   ]
  },
  {
   "cell_type": "code",
   "execution_count": 235,
   "metadata": {},
   "outputs": [
    {
     "name": "stdout",
     "output_type": "stream",
     "text": [
      "Alignment results save successfully to csv: aligment_results_fasta_12000_pred_score_filter_greater_than_50.csv\n",
      "Alignment results save successfully to csv: aligment_results_fasta_12000_pred_score_filter_less_than_equal_50.csv\n"
     ]
    }
   ],
   "source": [
    "perform_alignment(query_path_fsta_gt_50)\n",
    "perform_alignment(query_path_fsta_le_50)"
   ]
  },
  {
   "cell_type": "markdown",
   "metadata": {},
   "source": [
    "##Create fasta file using CSV"
   ]
  },
  {
   "cell_type": "code",
   "execution_count": 111,
   "metadata": {},
   "outputs": [],
   "source": [
    "\n",
    "def get_fasta_records_from_csv(input_csv_path):\n",
    "    '''\n",
    "    This method reads fasta information from csv file\n",
    "    Returns: window segment , start postion, end position, Full Sequence\n",
    "    '''\n",
    "    df = pd.read_csv(input_csv_path)\n",
    "    # df.head()\n",
    "    windows = df['window'].to_list()\n",
    "    start_positions = df['start_pos'].to_list()\n",
    "    end_positions = df['end_pos'].to_list()\n",
    "    full_seqs = df['full_seq'].to_list()\n",
    "    assert len(full_seqs), len(windows)\n",
    "    return windows, start_positions, end_positions, full_seqs\n",
    "    "
   ]
  },
  {
   "cell_type": "markdown",
   "metadata": {},
   "source": [
    "##Write fasta file"
   ]
  },
  {
   "cell_type": "code",
   "execution_count": 118,
   "metadata": {},
   "outputs": [],
   "source": [
    "def write_fasta_record(windows, start_positions, end_positions, full_seqs, fasta_save_path):\n",
    "    records  = []\n",
    "    for index in range(len(windows)):\n",
    "        header =  windows[index] + ',' + str(start_positions[index]) +\",\"  + str(end_positions[index]) \n",
    "        #SeqIO.SeqRecord(Seq(YourSEQ), ID, DESC) #All in string format \n",
    "        #, description = header\n",
    "        record  = SeqIO.SeqRecord(Seq(full_seqs[index]), id = str(index))\n",
    "        records.append(record)\n",
    "    assert len(records), len(windows)\n",
    "\n",
    "    #Write record \n",
    "    with open(fasta_save_path, \"w\") as output_handle:\n",
    "        SeqIO.write(records, output_handle, \"fasta\")\n",
    "    print(\"Fasta file saved Successfully to the path {}\".format(fasta_save_path))\n",
    "        \n",
    "        "
   ]
  },
  {
   "cell_type": "code",
   "execution_count": 119,
   "metadata": {},
   "outputs": [
    {
     "name": "stdout",
     "output_type": "stream",
     "text": [
      "Fasta file saved Successfully to the path /home/perm/ProteinGAN/data/cov_seqs/sars_db/raw_datasets/fasta_with_full_postional_info_01.fasta\n"
     ]
    }
   ],
   "source": [
    "#Create from from CSV\n",
    "input_csv_path = \"/home/perm/ProteinGAN/data/cov_seqs/sars_db/raw_datasets/sig_windows_with_pos_and_full_seq.csv\"\n",
    "fasta_save_path = \"/home/perm/ProteinGAN/data/cov_seqs/sars_db/raw_datasets/fasta_with_full_postional_info.fasta\"\n",
    "\n",
    "windows, start_positions, end_positions, full_seqs = get_fasta_records_from_csv(input_csv_path)\n",
    "write_fasta_record(windows, start_positions, end_positions, full_seqs, fasta_save_path)\n"
   ]
  },
  {
   "cell_type": "code",
   "execution_count": 218,
   "metadata": {},
   "outputs": [],
   "source": [
    "def convert_csv_to_fasta(query_path):\n",
    "    print(\"Converting CSV to FASTA Query Path\", query_path)\n",
    "    #Read csv | sequence , score\n",
    "    df = pd.read_csv(query_path)\n",
    "    sequences  = df['sequence'].to_list()\n",
    "    scores = df['score'].to_list()\n",
    "    assert len(sequences), len(scores)\n",
    "    #Create Sequence records\n",
    "    fasta_records = []\n",
    "    for i  in range(len(sequences)):\n",
    "        record  = SeqIO.SeqRecord(Seq(my_seq), str(i), description=str(scores[i]))\n",
    "        fasta_records.append(record)\n",
    "        \n",
    "    #Write to a fasta file \n",
    "    fasta_save_path = query_path.split(\".\")[0] +'.fasta'\n",
    "    print(fasta_save_path)\n",
    "    fasta_save_path\n",
    "    with open(fasta_save_path, 'w') as handle:\n",
    "        SeqIO.write(fasta_records, handle, \"fasta\") \n",
    "        \n",
    "    print(\"Fasta file successfully saved to a path: \", fasta_save_path)\n"
   ]
  },
  {
   "cell_type": "code",
   "execution_count": 219,
   "metadata": {},
   "outputs": [
    {
     "name": "stdout",
     "output_type": "stream",
     "text": [
      "Converting CSV to FASTA Query Path /home/perm/ProteinGAN/data/log_archive/non_sat_25m_dim_128/fasta_12000_pred_score_filter_greater_than_50.csv\n",
      "/home/perm/ProteinGAN/data/log_archive/non_sat_25m_dim_128/fasta_12000_pred_score_filter_greater_than_50.fasta\n",
      "Fasta file successfully saved to a path:  /home/perm/ProteinGAN/data/log_archive/non_sat_25m_dim_128/fasta_12000_pred_score_filter_greater_than_50.fasta\n",
      "Converting CSV to FASTA Query Path /home/perm/ProteinGAN/data/log_archive/non_sat_25m_dim_128/fasta_12000_pred_score_filter_less_than_equal_50.csv\n",
      "/home/perm/ProteinGAN/data/log_archive/non_sat_25m_dim_128/fasta_12000_pred_score_filter_less_than_equal_50.fasta\n",
      "Fasta file successfully saved to a path:  /home/perm/ProteinGAN/data/log_archive/non_sat_25m_dim_128/fasta_12000_pred_score_filter_less_than_equal_50.fasta\n"
     ]
    }
   ],
   "source": [
    "convert_csv_to_fasta(query_path_csv_gt_50)\n",
    "convert_csv_to_fasta(query_path_csv_le_50)"
   ]
  },
  {
   "cell_type": "code",
   "execution_count": 4,
   "metadata": {},
   "outputs": [
    {
     "name": "stdout",
     "output_type": "stream",
     "text": [
      "1  :  Prem\n",
      "2  :  Ram\n",
      "3  :  Shyam\n"
     ]
    }
   ],
   "source": [
    "l1 = [\"1\", \"2\", \"3\"]\n",
    "l2 = [\"Prem\", \"Ram\" , \"Shyam\"]\n",
    "for i1, i2 in zip(l1, l2):\n",
    "    print(i1, \" : \",  i2)"
   ]
  }
 ],
 "metadata": {
  "kernelspec": {
   "display_name": "base",
   "language": "python",
   "name": "python3"
  },
  "language_info": {
   "codemirror_mode": {
    "name": "ipython",
    "version": 3
   },
   "file_extension": ".py",
   "mimetype": "text/x-python",
   "name": "python",
   "nbconvert_exporter": "python",
   "pygments_lexer": "ipython3",
   "version": "3.7.16"
  },
  "orig_nbformat": 4
 },
 "nbformat": 4,
 "nbformat_minor": 2
}
